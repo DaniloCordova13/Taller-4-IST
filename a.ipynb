{
 "cells": [
  {
   "cell_type": "markdown",
   "id": "a65bc902",
   "metadata": {},
   "source": [
    "b"
   ]
  },
  {
   "cell_type": "code",
   "execution_count": null,
   "id": "15ae6fac",
   "metadata": {},
   "outputs": [
    {
     "name": "stdout",
     "output_type": "stream",
     "text": [
      "f_ab = 0.0\n",
      "f_ac = 100.00000000013458\n",
      "f_cb = 3.333336773920722\n",
      "f_cd = 3.333336773920722\n",
      "f_bd = 26.666663225944703\n"
     ]
    }
   ],
   "source": [
    "from scipy.optimize import minimize\n",
    "\n",
    "# -----fo------------------------------\n",
    "def Z(x):\n",
    "    fab, fac, fcb, fcd, fbd = x\n",
    "    return (\n",
    "        200 * fab +\n",
    "        100 * fac + 0.5 * fac**2 +\n",
    "        50 * fcb + fcb**2 +\n",
    "        100 * fbd +\n",
    "        10 * fcd + 5 * fcd**2\n",
    "    )\n",
    "\n",
    "#_---restricciones-------------------\n",
    "def restric1(x):\n",
    "    fab, fac, fcb, fcd, fbd = x\n",
    "    return 100 - (fab + fac)\n",
    "\n",
    "def restric2(x):\n",
    "    fab, fac, fcb, fcd, fbd = x\n",
    "    return - fbd + fab - fcb + 30\n",
    "\n",
    "def restric3(x):\n",
    "    fab, fac, fcb, fcd, fbd = x\n",
    "    return fcd - fcb\n",
    "    \n",
    "#---------minimizar ------------------\n",
    "resultado = minimize(\n",
    "    Z,\n",
    "    x0=[100, 100, 100, 100, 100],  # punto inicial\n",
    "    bounds=[(0, None)] * 5,\n",
    "    constraints=[\n",
    "        {'type': 'eq', 'fun': restric1},\n",
    "        {'type': 'eq', 'fun': restric2},\n",
    "        {'type': 'eq', 'fun': restric3}\n",
    "    ]\n",
    ")\n",
    "\n",
    "\n",
    "fab, fac, fcb, fcd, fbd = resultado.x\n",
    "print(f\"f_ab = {fab}\")\n",
    "print(f\"f_ac = {fac}\")\n",
    "print(f\"f_cb = {fcb}\")\n",
    "print(f\"f_cd = {fcd}\")\n",
    "print(f\"f_bd = {fbd}\")\n"
   ]
  },
  {
   "cell_type": "markdown",
   "id": "04c77854",
   "metadata": {},
   "source": [
    "d"
   ]
  },
  {
   "cell_type": "code",
   "execution_count": 6,
   "id": "24d587a0",
   "metadata": {},
   "outputs": [
    {
     "name": "stdout",
     "output_type": "stream",
     "text": [
      "f_ab = 1.5546639478630696e-07\n",
      "f_ac = 99.9999998445336\n",
      "f_cb = 1.6666624254109776\n",
      "f_cd = 1.6666624254109776\n",
      "f_bd = 28.33333773005542\n"
     ]
    }
   ],
   "source": [
    "from scipy.optimize import minimize\n",
    "\n",
    "# -----fo------------------------------\n",
    "def Z(x):\n",
    "    fab, fac, fcb, fcd, fbd = x\n",
    "    return (\n",
    "        200 * fab +\n",
    "        100 * fac +  fac**2 +\n",
    "        50 * fcb + 2*fcb**2 +\n",
    "        100 * fbd +\n",
    "        10 * fcd + 10 * fcd**2\n",
    "    )\n",
    "\n",
    "#_---restricciones-------------------\n",
    "def restric1(x):\n",
    "    fab, fac, fcb, fcd, fbd = x\n",
    "    return 100 - (fab + fac)\n",
    "\n",
    "def restric2(x):\n",
    "    fab, fac, fcb, fcd, fbd = x\n",
    "    return - fbd + fab - fcb + 30\n",
    "\n",
    "def restric3(x):\n",
    "    fab, fac, fcb, fcd, fbd = x\n",
    "    return fcd - fcb\n",
    "    \n",
    "#---------minimizar ------------------\n",
    "resultado = minimize(\n",
    "    Z,\n",
    "    x0=[100, 100, 100, 100, 100],  # punto inicial\n",
    "    bounds=[(0, None)] * 5,\n",
    "    constraints=[\n",
    "        {'type': 'eq', 'fun': restric1},\n",
    "        {'type': 'eq', 'fun': restric2},\n",
    "        {'type': 'eq', 'fun': restric3}\n",
    "    ]\n",
    ")\n",
    "\n",
    "\n",
    "fab, fac, fcb, fcd, fbd = resultado.x\n",
    "print(f\"f_ab = {fab}\")\n",
    "print(f\"f_ac = {fac}\")\n",
    "print(f\"f_cb = {fcb}\")\n",
    "print(f\"f_cd = {fcd}\")\n",
    "print(f\"f_bd = {fbd}\")\n"
   ]
  }
 ],
 "metadata": {
  "kernelspec": {
   "display_name": "Python 3",
   "language": "python",
   "name": "python3"
  },
  "language_info": {
   "codemirror_mode": {
    "name": "ipython",
    "version": 3
   },
   "file_extension": ".py",
   "mimetype": "text/x-python",
   "name": "python",
   "nbconvert_exporter": "python",
   "pygments_lexer": "ipython3",
   "version": "3.10.11"
  }
 },
 "nbformat": 4,
 "nbformat_minor": 5
}
